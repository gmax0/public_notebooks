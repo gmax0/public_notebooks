{
 "cells": [
  {
   "cell_type": "markdown",
   "id": "3b5ca671-2601-4c22-af58-94d753db51bc",
   "metadata": {},
   "source": []
  },
  {
   "cell_type": "markdown",
   "id": "71e10ceb-70bc-4c2e-a12e-8db675bec976",
   "metadata": {
    "tags": []
   },
   "source": [
    "## fsspec (Remote file access via s3, SFTP, etc)"
   ]
  },
  {
   "cell_type": "code",
   "execution_count": null,
   "id": "75397202-c221-4c65-aae3-866f347b190b",
   "metadata": {},
   "outputs": [],
   "source": [
    "import fsspec\n",
    "from fsspec.implementations.sftp import SFTPFileSystem\n",
    "\n",
    "import pandas as pd"
   ]
  },
  {
   "cell_type": "code",
   "execution_count": null,
   "id": "0c6fdeb4-1b43-4fd2-a9b7-02744772b089",
   "metadata": {},
   "outputs": [],
   "source": [
    "fsspec.available_protocols()"
   ]
  },
  {
   "cell_type": "code",
   "execution_count": null,
   "id": "c9e02b1a-58c8-4a3d-821d-b6d789872e57",
   "metadata": {},
   "outputs": [],
   "source": [
    "R_HOST = \"\" # file access may be faster if connected to a compute node?\n",
    "opts = {\n",
    "    'username': '',\n",
    "    'key_filename': ''\n",
    "}\n",
    "\n",
    "fs = SFTPFileSystem(host=R_HOST, **opts)"
   ]
  },
  {
   "cell_type": "code",
   "execution_count": null,
   "id": "e8d0e224-17ef-4343-903a-79c16f795498",
   "metadata": {},
   "outputs": [],
   "source": [
    "%%time\n",
    "fname = ''\n",
    "\n",
    "with fs.open(fname) as f:\n",
    "    df = pd.read_parquet(f)\n",
    "\n",
    "df.info()"
   ]
  }
 ],
 "metadata": {
  "kernelspec": {
   "display_name": "Python 3 (ipykernel)",
   "language": "python",
   "name": "python3"
  },
  "language_info": {
   "codemirror_mode": {
    "name": "ipython",
    "version": 3
   },
   "file_extension": ".py",
   "mimetype": "text/x-python",
   "name": "python",
   "nbconvert_exporter": "python",
   "pygments_lexer": "ipython3",
   "version": "3.8.13"
  }
 },
 "nbformat": 4,
 "nbformat_minor": 5
}
