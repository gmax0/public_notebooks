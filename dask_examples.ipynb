{
 "cells": [
  {
   "cell_type": "code",
   "execution_count": null,
   "id": "5031d1e8-5db1-4b6e-95e3-e81aa7ce4d38",
   "metadata": {},
   "outputs": [],
   "source": [
    "import dask\n",
    "import dask.bag as db\n",
    "import dask.dataframe as dd\n",
    "from dask.distributed import Client, LocalCluster"
   ]
  },
  {
   "cell_type": "markdown",
   "id": "7cb48948-8df6-4db7-a451-6aaf602cf48f",
   "metadata": {},
   "source": [
    "### Local Cluster Initialization"
   ]
  },
  {
   "cell_type": "code",
   "execution_count": null,
   "id": "58b5f900-52a7-4832-bb02-7f5f4074c6dc",
   "metadata": {},
   "outputs": [],
   "source": [
    "%time\n",
    "\n",
    "n_workers = 128\n",
    "memory_limit = '4G'\n",
    "threads_per_worker = 1\n",
    "processes = True\n",
    "\n",
    "cluster = LocalCluster(n_workers=128, \n",
    "                       memory_limit='4G', \n",
    "                       threads_per_worker=1, \n",
    "                       processes=True)\n",
    "\n",
    "client = Client(cluster)\n",
    "client.cluster"
   ]
  },
  {
   "cell_type": "code",
   "execution_count": null,
   "id": "33aaa62b-3ec8-4a23-b9c4-b45157bd2078",
   "metadata": {},
   "outputs": [],
   "source": [
    "# client.shutdown()"
   ]
  },
  {
   "cell_type": "markdown",
   "id": "2ce0f9e7-7fb7-4012-adf0-5a3c38a4a0f9",
   "metadata": {},
   "source": [
    "### Distributed Cluster Initialization"
   ]
  },
  {
   "cell_type": "markdown",
   "id": "8ba4c289-ab33-4803-b05e-081b5df49c26",
   "metadata": {},
   "source": [
    "#### SLURM Cluster\n",
    "\n",
    "Actual parameters have been stripped. "
   ]
  },
  {
   "cell_type": "code",
   "execution_count": null,
   "id": "cac69879-41d5-4b2b-b410-c38085266e2a",
   "metadata": {},
   "outputs": [],
   "source": [
    "HOSTS_FILE=\"dask_hosts.txt\"\n",
    "\n",
    "cluster = SLURMCluster(\n",
    "    queue='',\n",
    "    project='',\n",
    "    # job_extra=['--nodes=1'],\n",
    "    job_extra=['--nodes=1', '--constraint=\"\"'], \n",
    "    walltime='00:30:00',\n",
    "    death_timeout=30,\n",
    "    cores=16,\n",
    "    processes=4,\n",
    "    memory='48 GB',\n",
    "    interface='ib0',\n",
    "    env_extra= ['hostname --fqdn >> {}'.format(HOSTS_FILE)] \n",
    ")\n",
    "\n",
    "print(cluster.job_script())\n",
    "cluster.adapt(minimum_jobs=1, maximum_jobs=16)\n",
    "# cluster.adapt(maximum_memory=\"10 TB\")  # or use core/memory limits\n",
    "\n",
    "client = Client(cluster)\n",
    "client.cluster"
   ]
  }
 ],
 "metadata": {
  "kernelspec": {
   "display_name": "Python 3 (ipykernel)",
   "language": "python",
   "name": "python3"
  },
  "language_info": {
   "codemirror_mode": {
    "name": "ipython",
    "version": 3
   },
   "file_extension": ".py",
   "mimetype": "text/x-python",
   "name": "python",
   "nbconvert_exporter": "python",
   "pygments_lexer": "ipython3",
   "version": "3.8.13"
  }
 },
 "nbformat": 4,
 "nbformat_minor": 5
}
