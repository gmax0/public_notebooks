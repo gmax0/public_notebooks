{
 "cells": [
  {
   "cell_type": "markdown",
   "id": "baf09192-8f42-482d-8bd9-eaf50253e507",
   "metadata": {},
   "source": [
    "# Visualizations\n",
    "\n",
    "Cute graphs to compensate for a lack of high-precision visual cortex processing."
   ]
  },
  {
   "cell_type": "markdown",
   "id": "7fd095ae-ec84-4f45-9f90-79551f28f793",
   "metadata": {},
   "source": [
    "### Plotly"
   ]
  },
  {
   "cell_type": "code",
   "execution_count": null,
   "id": "7e55dc1c-9fbc-4d37-9e81-5ee1f56e3159",
   "metadata": {},
   "outputs": [],
   "source": [
    "import plotly.express as px\n",
    "import plotly.graph_objects as go\n",
    "from plotly.subplots import make_subplots\n",
    "import plotly.figure_factory as ff"
   ]
  },
  {
   "cell_type": "code",
   "execution_count": null,
   "id": "d41d1c78-fa82-4fdc-949e-2dc10558f6d5",
   "metadata": {},
   "outputs": [],
   "source": []
  }
 ],
 "metadata": {
  "kernelspec": {
   "display_name": "Python 3 (ipykernel)",
   "language": "python",
   "name": "python3"
  },
  "language_info": {
   "codemirror_mode": {
    "name": "ipython",
    "version": 3
   },
   "file_extension": ".py",
   "mimetype": "text/x-python",
   "name": "python",
   "nbconvert_exporter": "python",
   "pygments_lexer": "ipython3",
   "version": "3.8.13"
  }
 },
 "nbformat": 4,
 "nbformat_minor": 5
}
